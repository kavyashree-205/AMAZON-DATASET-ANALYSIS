{
  "nbformat": 4,
  "nbformat_minor": 0,
  "metadata": {
    "colab": {
      "name": "SAMPLE AMAZON DATASET.ipynb",
      "provenance": [],
      "collapsed_sections": [],
      "authorship_tag": "ABX9TyP8f+zSSlVksYDXJMG8DQdx",
      "include_colab_link": true
    },
    "kernelspec": {
      "name": "python3",
      "display_name": "Python 3"
    }
  },
  "cells": [
    {
      "cell_type": "markdown",
      "metadata": {
        "id": "view-in-github",
        "colab_type": "text"
      },
      "source": [
        "<a href=\"https://colab.research.google.com/github/kavyashree-205/AMAZON-DATASET-ANALYSIS/blob/master/SAMPLE_AMAZON_DATASET.ipynb\" target=\"_parent\"><img src=\"https://colab.research.google.com/assets/colab-badge.svg\" alt=\"Open In Colab\"/></a>"
      ]
    },
    {
      "cell_type": "code",
      "metadata": {
        "id": "PhKF3lstv6eG",
        "colab_type": "code",
        "colab": {
          "base_uri": "https://localhost:8080/",
          "height": 51
        },
        "outputId": "a734539b-ede9-4fa3-fc41-9d89974a31e6"
      },
      "source": [
        "import numpy as np\n",
        "import pandas as pd\n",
        "%matplotlib inline\n",
        "import matplotlib.pyplot as plt\n",
        "import seaborn as sns\n",
        "import urllib.request"
      ],
      "execution_count": 1,
      "outputs": [
        {
          "output_type": "stream",
          "text": [
            "/usr/local/lib/python3.6/dist-packages/statsmodels/tools/_testing.py:19: FutureWarning: pandas.util.testing is deprecated. Use the functions in the public API at pandas.testing instead.\n",
            "  import pandas.util.testing as tm\n"
          ],
          "name": "stderr"
        }
      ]
    },
    {
      "cell_type": "code",
      "metadata": {
        "id": "sXQ8GC7c3uZ7",
        "colab_type": "code",
        "colab": {}
      },
      "source": [
        "url=\"https://www.dataquest.io/wp-content/uploads/2019/09/amazon-orders.csv\""
      ],
      "execution_count": 2,
      "outputs": []
    },
    {
      "cell_type": "code",
      "metadata": {
        "id": "0TyYSJvn4Ucp",
        "colab_type": "code",
        "colab": {
          "base_uri": "https://localhost:8080/",
          "height": 34
        },
        "outputId": "89680c56-fc46-4754-a767-ad9323eda4c2"
      },
      "source": [
        "urllib.request.urlretrieve(url)"
      ],
      "execution_count": 5,
      "outputs": [
        {
          "output_type": "execute_result",
          "data": {
            "text/plain": [
              "('/tmp/tmpk1wzlupe', <http.client.HTTPMessage at 0x7f4a82487fd0>)"
            ]
          },
          "metadata": {
            "tags": []
          },
          "execution_count": 5
        }
      ]
    },
    {
      "cell_type": "code",
      "metadata": {
        "id": "c03qOcSm4Y_5",
        "colab_type": "code",
        "colab": {}
      },
      "source": [
        "df=pd.read_csv(url)"
      ],
      "execution_count": 6,
      "outputs": []
    },
    {
      "cell_type": "code",
      "metadata": {
        "id": "5oSwcb-Q40nh",
        "colab_type": "code",
        "colab": {
          "base_uri": "https://localhost:8080/",
          "height": 445
        },
        "outputId": "557a069d-5f7a-44d7-9756-c9f3db2e3a84"
      },
      "source": [
        "df.head()"
      ],
      "execution_count": 7,
      "outputs": [
        {
          "output_type": "execute_result",
          "data": {
            "text/html": [
              "<div>\n",
              "<style scoped>\n",
              "    .dataframe tbody tr th:only-of-type {\n",
              "        vertical-align: middle;\n",
              "    }\n",
              "\n",
              "    .dataframe tbody tr th {\n",
              "        vertical-align: top;\n",
              "    }\n",
              "\n",
              "    .dataframe thead th {\n",
              "        text-align: right;\n",
              "    }\n",
              "</style>\n",
              "<table border=\"1\" class=\"dataframe\">\n",
              "  <thead>\n",
              "    <tr style=\"text-align: right;\">\n",
              "      <th></th>\n",
              "      <th>Order Date</th>\n",
              "      <th>Order ID</th>\n",
              "      <th>Payment Instrument Type</th>\n",
              "      <th>Website</th>\n",
              "      <th>Purchase Order Number</th>\n",
              "      <th>Ordering Customer Email</th>\n",
              "      <th>Shipment Date</th>\n",
              "      <th>Shipping Address Name</th>\n",
              "      <th>Shipping Address Street 1</th>\n",
              "      <th>Shipping Address Street 2</th>\n",
              "      <th>Shipping Address City</th>\n",
              "      <th>Shipping Address State</th>\n",
              "      <th>Shipping Address Zip</th>\n",
              "      <th>Order Status</th>\n",
              "      <th>Carrier Name &amp; Tracking Number</th>\n",
              "      <th>Subtotal</th>\n",
              "      <th>Shipping Charge</th>\n",
              "      <th>Tax Before Promotions</th>\n",
              "      <th>Total Promotions</th>\n",
              "      <th>Tax Charged</th>\n",
              "      <th>Total Charged</th>\n",
              "      <th>Buyer Name</th>\n",
              "      <th>Group Name</th>\n",
              "    </tr>\n",
              "  </thead>\n",
              "  <tbody>\n",
              "    <tr>\n",
              "      <th>0</th>\n",
              "      <td>04/01/19</td>\n",
              "      <td>112-0000000-0000001</td>\n",
              "      <td>Visa - 0001</td>\n",
              "      <td>Amazon.com</td>\n",
              "      <td>NaN</td>\n",
              "      <td>your_email@gmail.com</td>\n",
              "      <td>04/01/19</td>\n",
              "      <td>Your Name</td>\n",
              "      <td>1 YOUR STREET</td>\n",
              "      <td>NaN</td>\n",
              "      <td>ANYTOWN</td>\n",
              "      <td>ME</td>\n",
              "      <td>00001-0001</td>\n",
              "      <td>Shipped</td>\n",
              "      <td>USPS(0001)</td>\n",
              "      <td>$35.00</td>\n",
              "      <td>$0.00</td>\n",
              "      <td>$1.93</td>\n",
              "      <td>$0.00</td>\n",
              "      <td>$1.93</td>\n",
              "      <td>$36.93</td>\n",
              "      <td>Your Name</td>\n",
              "      <td>NaN</td>\n",
              "    </tr>\n",
              "    <tr>\n",
              "      <th>1</th>\n",
              "      <td>04/01/19</td>\n",
              "      <td>112-0000000-0000002</td>\n",
              "      <td>Visa - 0001</td>\n",
              "      <td>Amazon.com</td>\n",
              "      <td>NaN</td>\n",
              "      <td>your_email@gmail.com</td>\n",
              "      <td>04/01/19</td>\n",
              "      <td>Your Name</td>\n",
              "      <td>1 YOUR STREET</td>\n",
              "      <td>NaN</td>\n",
              "      <td>ANYTOWN</td>\n",
              "      <td>ME</td>\n",
              "      <td>00001-0001</td>\n",
              "      <td>Shipped</td>\n",
              "      <td>USPS(0001)</td>\n",
              "      <td>$16.99</td>\n",
              "      <td>$0.00</td>\n",
              "      <td>$0.00</td>\n",
              "      <td>$0.00</td>\n",
              "      <td>$0.00</td>\n",
              "      <td>$16.99</td>\n",
              "      <td>Your Name</td>\n",
              "      <td>NaN</td>\n",
              "    </tr>\n",
              "    <tr>\n",
              "      <th>2</th>\n",
              "      <td>04/01/19</td>\n",
              "      <td>112-0000000-0000003</td>\n",
              "      <td>Visa - 0001</td>\n",
              "      <td>Amazon.com</td>\n",
              "      <td>NaN</td>\n",
              "      <td>your_email@gmail.com</td>\n",
              "      <td>04/01/19</td>\n",
              "      <td>Your Name</td>\n",
              "      <td>1 YOUR STREET</td>\n",
              "      <td>NaN</td>\n",
              "      <td>ANYTOWN</td>\n",
              "      <td>ME</td>\n",
              "      <td>00001-0001</td>\n",
              "      <td>Shipped</td>\n",
              "      <td>USPS(0001)</td>\n",
              "      <td>$9.99</td>\n",
              "      <td>$0.00</td>\n",
              "      <td>$0.00</td>\n",
              "      <td>$0.00</td>\n",
              "      <td>$0.00</td>\n",
              "      <td>$9.99</td>\n",
              "      <td>Your Name</td>\n",
              "      <td>NaN</td>\n",
              "    </tr>\n",
              "    <tr>\n",
              "      <th>3</th>\n",
              "      <td>04/04/19</td>\n",
              "      <td>112-0000000-0000004</td>\n",
              "      <td>Visa - 0001</td>\n",
              "      <td>Amazon.com</td>\n",
              "      <td>NaN</td>\n",
              "      <td>your_email@gmail.com</td>\n",
              "      <td>04/05/19</td>\n",
              "      <td>Your Name</td>\n",
              "      <td>1 YOUR STREET</td>\n",
              "      <td>NaN</td>\n",
              "      <td>ANYTOWN</td>\n",
              "      <td>ME</td>\n",
              "      <td>00001-0001</td>\n",
              "      <td>Shipped</td>\n",
              "      <td>UPS(0002)</td>\n",
              "      <td>$147.98</td>\n",
              "      <td>$0.00</td>\n",
              "      <td>$8.14</td>\n",
              "      <td>$0.00</td>\n",
              "      <td>$8.14</td>\n",
              "      <td>$156.12</td>\n",
              "      <td>Your Name</td>\n",
              "      <td>NaN</td>\n",
              "    </tr>\n",
              "    <tr>\n",
              "      <th>4</th>\n",
              "      <td>04/05/19</td>\n",
              "      <td>112-0000000-0000005</td>\n",
              "      <td>Visa - 0001</td>\n",
              "      <td>Amazon.com</td>\n",
              "      <td>NaN</td>\n",
              "      <td>your_email@gmail.com</td>\n",
              "      <td>04/07/19</td>\n",
              "      <td>Your Name</td>\n",
              "      <td>1 YOUR STREET</td>\n",
              "      <td>NaN</td>\n",
              "      <td>ANYTOWN</td>\n",
              "      <td>ME</td>\n",
              "      <td>00001-0001</td>\n",
              "      <td>Shipped</td>\n",
              "      <td>USPS(0001)</td>\n",
              "      <td>$14.99</td>\n",
              "      <td>$0.00</td>\n",
              "      <td>$0.00</td>\n",
              "      <td>$0.00</td>\n",
              "      <td>$0.00</td>\n",
              "      <td>$14.99</td>\n",
              "      <td>Your Name</td>\n",
              "      <td>NaN</td>\n",
              "    </tr>\n",
              "  </tbody>\n",
              "</table>\n",
              "</div>"
            ],
            "text/plain": [
              "  Order Date             Order ID  ... Buyer Name Group Name\n",
              "0   04/01/19  112-0000000-0000001  ...  Your Name        NaN\n",
              "1   04/01/19  112-0000000-0000002  ...  Your Name        NaN\n",
              "2   04/01/19  112-0000000-0000003  ...  Your Name        NaN\n",
              "3   04/04/19  112-0000000-0000004  ...  Your Name        NaN\n",
              "4   04/05/19  112-0000000-0000005  ...  Your Name        NaN\n",
              "\n",
              "[5 rows x 23 columns]"
            ]
          },
          "metadata": {
            "tags": []
          },
          "execution_count": 7
        }
      ]
    },
    {
      "cell_type": "code",
      "metadata": {
        "id": "2ldbosqf5KJg",
        "colab_type": "code",
        "colab": {
          "base_uri": "https://localhost:8080/",
          "height": 34
        },
        "outputId": "63430781-613f-4eb9-8f6c-49f51424e080"
      },
      "source": [
        "#gives the size of the data frame\n",
        "df.shape"
      ],
      "execution_count": 8,
      "outputs": [
        {
          "output_type": "execute_result",
          "data": {
            "text/plain": [
              "(59, 23)"
            ]
          },
          "metadata": {
            "tags": []
          },
          "execution_count": 8
        }
      ]
    },
    {
      "cell_type": "code",
      "metadata": {
        "id": "2Se7ba025bSw",
        "colab_type": "code",
        "colab": {
          "base_uri": "https://localhost:8080/",
          "height": 170
        },
        "outputId": "116f67f3-c545-44b2-ea7e-1feb7b40277d"
      },
      "source": [
        "#displaying all the field names of the dataset\n",
        "df.columns"
      ],
      "execution_count": 11,
      "outputs": [
        {
          "output_type": "execute_result",
          "data": {
            "text/plain": [
              "Index(['Order Date', 'Order ID', 'Payment Instrument Type', 'Website',\n",
              "       'Purchase Order Number', 'Ordering Customer Email', 'Shipment Date',\n",
              "       'Shipping Address Name', 'Shipping Address Street 1',\n",
              "       'Shipping Address Street 2', 'Shipping Address City',\n",
              "       'Shipping Address State', 'Shipping Address Zip', 'Order Status',\n",
              "       'Carrier Name & Tracking Number', 'Subtotal', 'Shipping Charge',\n",
              "       'Tax Before Promotions', 'Total Promotions', 'Tax Charged',\n",
              "       'Total Charged', 'Buyer Name', 'Group Name'],\n",
              "      dtype='object')"
            ]
          },
          "metadata": {
            "tags": []
          },
          "execution_count": 11
        }
      ]
    },
    {
      "cell_type": "code",
      "metadata": {
        "id": "yEfJYa426PsH",
        "colab_type": "code",
        "colab": {
          "base_uri": "https://localhost:8080/",
          "height": 445
        },
        "outputId": "717621a0-a44a-4eeb-e5da-e5dc60a07f89"
      },
      "source": [
        "#replacing NaN values with zero\n",
        "df=df.fillna(0)\n",
        "df.head()"
      ],
      "execution_count": 12,
      "outputs": [
        {
          "output_type": "execute_result",
          "data": {
            "text/html": [
              "<div>\n",
              "<style scoped>\n",
              "    .dataframe tbody tr th:only-of-type {\n",
              "        vertical-align: middle;\n",
              "    }\n",
              "\n",
              "    .dataframe tbody tr th {\n",
              "        vertical-align: top;\n",
              "    }\n",
              "\n",
              "    .dataframe thead th {\n",
              "        text-align: right;\n",
              "    }\n",
              "</style>\n",
              "<table border=\"1\" class=\"dataframe\">\n",
              "  <thead>\n",
              "    <tr style=\"text-align: right;\">\n",
              "      <th></th>\n",
              "      <th>Order Date</th>\n",
              "      <th>Order ID</th>\n",
              "      <th>Payment Instrument Type</th>\n",
              "      <th>Website</th>\n",
              "      <th>Purchase Order Number</th>\n",
              "      <th>Ordering Customer Email</th>\n",
              "      <th>Shipment Date</th>\n",
              "      <th>Shipping Address Name</th>\n",
              "      <th>Shipping Address Street 1</th>\n",
              "      <th>Shipping Address Street 2</th>\n",
              "      <th>Shipping Address City</th>\n",
              "      <th>Shipping Address State</th>\n",
              "      <th>Shipping Address Zip</th>\n",
              "      <th>Order Status</th>\n",
              "      <th>Carrier Name &amp; Tracking Number</th>\n",
              "      <th>Subtotal</th>\n",
              "      <th>Shipping Charge</th>\n",
              "      <th>Tax Before Promotions</th>\n",
              "      <th>Total Promotions</th>\n",
              "      <th>Tax Charged</th>\n",
              "      <th>Total Charged</th>\n",
              "      <th>Buyer Name</th>\n",
              "      <th>Group Name</th>\n",
              "    </tr>\n",
              "  </thead>\n",
              "  <tbody>\n",
              "    <tr>\n",
              "      <th>0</th>\n",
              "      <td>04/01/19</td>\n",
              "      <td>112-0000000-0000001</td>\n",
              "      <td>Visa - 0001</td>\n",
              "      <td>Amazon.com</td>\n",
              "      <td>0.0</td>\n",
              "      <td>your_email@gmail.com</td>\n",
              "      <td>04/01/19</td>\n",
              "      <td>Your Name</td>\n",
              "      <td>1 YOUR STREET</td>\n",
              "      <td>0.0</td>\n",
              "      <td>ANYTOWN</td>\n",
              "      <td>ME</td>\n",
              "      <td>00001-0001</td>\n",
              "      <td>Shipped</td>\n",
              "      <td>USPS(0001)</td>\n",
              "      <td>$35.00</td>\n",
              "      <td>$0.00</td>\n",
              "      <td>$1.93</td>\n",
              "      <td>$0.00</td>\n",
              "      <td>$1.93</td>\n",
              "      <td>$36.93</td>\n",
              "      <td>Your Name</td>\n",
              "      <td>0.0</td>\n",
              "    </tr>\n",
              "    <tr>\n",
              "      <th>1</th>\n",
              "      <td>04/01/19</td>\n",
              "      <td>112-0000000-0000002</td>\n",
              "      <td>Visa - 0001</td>\n",
              "      <td>Amazon.com</td>\n",
              "      <td>0.0</td>\n",
              "      <td>your_email@gmail.com</td>\n",
              "      <td>04/01/19</td>\n",
              "      <td>Your Name</td>\n",
              "      <td>1 YOUR STREET</td>\n",
              "      <td>0.0</td>\n",
              "      <td>ANYTOWN</td>\n",
              "      <td>ME</td>\n",
              "      <td>00001-0001</td>\n",
              "      <td>Shipped</td>\n",
              "      <td>USPS(0001)</td>\n",
              "      <td>$16.99</td>\n",
              "      <td>$0.00</td>\n",
              "      <td>$0.00</td>\n",
              "      <td>$0.00</td>\n",
              "      <td>$0.00</td>\n",
              "      <td>$16.99</td>\n",
              "      <td>Your Name</td>\n",
              "      <td>0.0</td>\n",
              "    </tr>\n",
              "    <tr>\n",
              "      <th>2</th>\n",
              "      <td>04/01/19</td>\n",
              "      <td>112-0000000-0000003</td>\n",
              "      <td>Visa - 0001</td>\n",
              "      <td>Amazon.com</td>\n",
              "      <td>0.0</td>\n",
              "      <td>your_email@gmail.com</td>\n",
              "      <td>04/01/19</td>\n",
              "      <td>Your Name</td>\n",
              "      <td>1 YOUR STREET</td>\n",
              "      <td>0.0</td>\n",
              "      <td>ANYTOWN</td>\n",
              "      <td>ME</td>\n",
              "      <td>00001-0001</td>\n",
              "      <td>Shipped</td>\n",
              "      <td>USPS(0001)</td>\n",
              "      <td>$9.99</td>\n",
              "      <td>$0.00</td>\n",
              "      <td>$0.00</td>\n",
              "      <td>$0.00</td>\n",
              "      <td>$0.00</td>\n",
              "      <td>$9.99</td>\n",
              "      <td>Your Name</td>\n",
              "      <td>0.0</td>\n",
              "    </tr>\n",
              "    <tr>\n",
              "      <th>3</th>\n",
              "      <td>04/04/19</td>\n",
              "      <td>112-0000000-0000004</td>\n",
              "      <td>Visa - 0001</td>\n",
              "      <td>Amazon.com</td>\n",
              "      <td>0.0</td>\n",
              "      <td>your_email@gmail.com</td>\n",
              "      <td>04/05/19</td>\n",
              "      <td>Your Name</td>\n",
              "      <td>1 YOUR STREET</td>\n",
              "      <td>0.0</td>\n",
              "      <td>ANYTOWN</td>\n",
              "      <td>ME</td>\n",
              "      <td>00001-0001</td>\n",
              "      <td>Shipped</td>\n",
              "      <td>UPS(0002)</td>\n",
              "      <td>$147.98</td>\n",
              "      <td>$0.00</td>\n",
              "      <td>$8.14</td>\n",
              "      <td>$0.00</td>\n",
              "      <td>$8.14</td>\n",
              "      <td>$156.12</td>\n",
              "      <td>Your Name</td>\n",
              "      <td>0.0</td>\n",
              "    </tr>\n",
              "    <tr>\n",
              "      <th>4</th>\n",
              "      <td>04/05/19</td>\n",
              "      <td>112-0000000-0000005</td>\n",
              "      <td>Visa - 0001</td>\n",
              "      <td>Amazon.com</td>\n",
              "      <td>0.0</td>\n",
              "      <td>your_email@gmail.com</td>\n",
              "      <td>04/07/19</td>\n",
              "      <td>Your Name</td>\n",
              "      <td>1 YOUR STREET</td>\n",
              "      <td>0.0</td>\n",
              "      <td>ANYTOWN</td>\n",
              "      <td>ME</td>\n",
              "      <td>00001-0001</td>\n",
              "      <td>Shipped</td>\n",
              "      <td>USPS(0001)</td>\n",
              "      <td>$14.99</td>\n",
              "      <td>$0.00</td>\n",
              "      <td>$0.00</td>\n",
              "      <td>$0.00</td>\n",
              "      <td>$0.00</td>\n",
              "      <td>$14.99</td>\n",
              "      <td>Your Name</td>\n",
              "      <td>0.0</td>\n",
              "    </tr>\n",
              "  </tbody>\n",
              "</table>\n",
              "</div>"
            ],
            "text/plain": [
              "  Order Date             Order ID  ... Buyer Name Group Name\n",
              "0   04/01/19  112-0000000-0000001  ...  Your Name        0.0\n",
              "1   04/01/19  112-0000000-0000002  ...  Your Name        0.0\n",
              "2   04/01/19  112-0000000-0000003  ...  Your Name        0.0\n",
              "3   04/04/19  112-0000000-0000004  ...  Your Name        0.0\n",
              "4   04/05/19  112-0000000-0000005  ...  Your Name        0.0\n",
              "\n",
              "[5 rows x 23 columns]"
            ]
          },
          "metadata": {
            "tags": []
          },
          "execution_count": 12
        }
      ]
    },
    {
      "cell_type": "code",
      "metadata": {
        "id": "Fr-xNdCC9TyH",
        "colab_type": "code",
        "colab": {
          "base_uri": "https://localhost:8080/",
          "height": 34
        },
        "outputId": "fae3857f-27b9-43b8-8af1-e72c7090d96f"
      },
      "source": [
        "#finding the sum of total changes of the amazon products purchased\n",
        "#to find the sum we need to remove the '$' sign \n",
        "a=df['Total Charged']\n",
        "print(a.dtype)  #the type of data in total charged column is object which is string type\n",
        "#we need to convert string type to float type to perferm basic arithmatic operations\n"
      ],
      "execution_count": 13,
      "outputs": [
        {
          "output_type": "stream",
          "text": [
            "object\n"
          ],
          "name": "stdout"
        }
      ]
    },
    {
      "cell_type": "code",
      "metadata": {
        "id": "kac3-EeX_LnG",
        "colab_type": "code",
        "colab": {
          "base_uri": "https://localhost:8080/",
          "height": 119
        },
        "outputId": "3dc47f88-2957-4d03-ac0e-de620d53db44"
      },
      "source": [
        "#replaced '$' with ''\n",
        "df['Total Charged']=df['Total Charged'].str.replace('$','')\n",
        "print(df['Total Charged'].head())"
      ],
      "execution_count": 14,
      "outputs": [
        {
          "output_type": "stream",
          "text": [
            "0     36.93\n",
            "1     16.99\n",
            "2      9.99\n",
            "3    156.12\n",
            "4     14.99\n",
            "Name: Total Charged, dtype: object\n"
          ],
          "name": "stdout"
        }
      ]
    },
    {
      "cell_type": "code",
      "metadata": {
        "id": "JdlYjmv4BzG0",
        "colab_type": "code",
        "colab": {
          "base_uri": "https://localhost:8080/",
          "height": 119
        },
        "outputId": "69282541-4e56-4ae8-8246-0fb837d5a748"
      },
      "source": [
        "#converted strinbg type data to float values\n",
        "df['Total Charged']=df['Total Charged'].astype(float)\n",
        "print(df['Total Charged'].head())"
      ],
      "execution_count": 15,
      "outputs": [
        {
          "output_type": "stream",
          "text": [
            "0     36.93\n",
            "1     16.99\n",
            "2      9.99\n",
            "3    156.12\n",
            "4     14.99\n",
            "Name: Total Charged, dtype: float64\n"
          ],
          "name": "stdout"
        }
      ]
    },
    {
      "cell_type": "code",
      "metadata": {
        "id": "umAnl7v7CWNy",
        "colab_type": "code",
        "colab": {
          "base_uri": "https://localhost:8080/",
          "height": 34
        },
        "outputId": "0e56c95d-ee5f-4902-cd29-d702b62a8782"
      },
      "source": [
        "#calculating the Total amount of money spent on amazon products\n",
        "total_money=df['Total Charged'].sum()\n",
        "print('Total amount of money spent on amazon products : ',total_money)\n"
      ],
      "execution_count": 16,
      "outputs": [
        {
          "output_type": "stream",
          "text": [
            "Total amount of money spent on amazon products :  1777.7300000000002\n"
          ],
          "name": "stdout"
        }
      ]
    },
    {
      "cell_type": "code",
      "metadata": {
        "id": "IojOLghJDMJ5",
        "colab_type": "code",
        "colab": {
          "base_uri": "https://localhost:8080/",
          "height": 34
        },
        "outputId": "df9e7f83-26c1-480e-a002-e1558d5c5358"
      },
      "source": [
        "#finding the average amount spent on amazon product\n",
        "average=df['Total Charged'].mean()\n",
        "print('the average amount spent on amazon product : ',round(average,3))"
      ],
      "execution_count": 17,
      "outputs": [
        {
          "output_type": "stream",
          "text": [
            "the average amount spent on amazon product :  30.131\n"
          ],
          "name": "stdout"
        }
      ]
    },
    {
      "cell_type": "code",
      "metadata": {
        "id": "QClsQK1qEqCa",
        "colab_type": "code",
        "colab": {
          "base_uri": "https://localhost:8080/",
          "height": 34
        },
        "outputId": "386bd13b-73c3-4eb1-f89a-83f8072bde91"
      },
      "source": [
        "#finding out the highest amount spent on amazon product\n",
        "max=df['Total Charged'].max()\n",
        "print(\"highest amount spent on amazon product : \",max)"
      ],
      "execution_count": 18,
      "outputs": [
        {
          "output_type": "stream",
          "text": [
            "highest amount spent on amazon product :  210.99\n"
          ],
          "name": "stdout"
        }
      ]
    },
    {
      "cell_type": "code",
      "metadata": {
        "id": "FapsR-OgGjcH",
        "colab_type": "code",
        "colab": {
          "base_uri": "https://localhost:8080/",
          "height": 34
        },
        "outputId": "db9b1ded-621b-496e-a8c2-ace64b993dc6"
      },
      "source": [
        "#finding out the minimum amount spent on amazon product\n",
        "min=np.min(df['Total Charged'])\n",
        "print('The least amount spent on amazon product : ',min)"
      ],
      "execution_count": 19,
      "outputs": [
        {
          "output_type": "stream",
          "text": [
            "The least amount spent on amazon product :  1.04\n"
          ],
          "name": "stdout"
        }
      ]
    },
    {
      "cell_type": "code",
      "metadata": {
        "id": "Xe-ZV4rRG-NH",
        "colab_type": "code",
        "colab": {
          "base_uri": "https://localhost:8080/",
          "height": 34
        },
        "outputId": "0568c63a-e165-466a-89fe-f61b05690acb"
      },
      "source": [
        "#finding out the total tax amount payed\n",
        "df['Tax Charged']=df['Tax Charged'].str.replace('$','')\n",
        "df['Tax Charged']=df['Tax Charged'].astype(float)\n",
        "total_tax=np.sum(df['Tax Charged'])\n",
        "print('total tax amount payed : ',round(total_tax,4))\n"
      ],
      "execution_count": 20,
      "outputs": [
        {
          "output_type": "stream",
          "text": [
            "total tax amount payed :  52.61\n"
          ],
          "name": "stdout"
        }
      ]
    },
    {
      "cell_type": "code",
      "metadata": {
        "id": "BrY_Be4gINNl",
        "colab_type": "code",
        "colab": {
          "base_uri": "https://localhost:8080/",
          "height": 34
        },
        "outputId": "f8abc466-b8cc-4636-cc84-37e4a88bb178"
      },
      "source": [
        "#finding the overrall tax rate payed for the amazon products\n",
        "tax_rate=(total_tax/total_money)*100\n",
        "tax_rate=round(tax_rate,2)\n",
        "print('The overrall tax rate payed for the amazon products : ',str(tax_rate)+'%')"
      ],
      "execution_count": 21,
      "outputs": [
        {
          "output_type": "stream",
          "text": [
            "The overrall tax rate payed for the amazon products :  2.96%\n"
          ],
          "name": "stdout"
        }
      ]
    },
    {
      "cell_type": "code",
      "metadata": {
        "id": "-2clLKN6NPIh",
        "colab_type": "code",
        "colab": {
          "base_uri": "https://localhost:8080/",
          "height": 34
        },
        "outputId": "91adc988-1de7-4c24-dde1-46b5121df08f"
      },
      "source": [
        "#finding the total shipping charges spent on amazon product\n",
        "df['Shipping Charge']=df['Shipping Charge'].str.replace('$','')\n",
        "df['Shipping Charge']=df['Shipping Charge'].astype(float)\n",
        "total_sp=df['Shipping Charge'].sum()\n",
        "print('The total shipping charges spent on amazon product : ',total_sp)"
      ],
      "execution_count": 22,
      "outputs": [
        {
          "output_type": "stream",
          "text": [
            "The total shipping charges spent on amazon product :  20.89\n"
          ],
          "name": "stdout"
        }
      ]
    },
    {
      "cell_type": "code",
      "metadata": {
        "id": "J8QukUA5tr6B",
        "colab_type": "code",
        "colab": {
          "base_uri": "https://localhost:8080/",
          "height": 119
        },
        "outputId": "99b3e7ca-a716-4b81-df35-a7e296269750"
      },
      "source": [
        "#converting the dates to the correct form for analysis\n",
        "df['Order Date']=pd.to_datetime(df['Order Date'])\n",
        "print(df['Order Date'].head())"
      ],
      "execution_count": 23,
      "outputs": [
        {
          "output_type": "stream",
          "text": [
            "0   2019-04-01\n",
            "1   2019-04-01\n",
            "2   2019-04-01\n",
            "3   2019-04-04\n",
            "4   2019-04-05\n",
            "Name: Order Date, dtype: datetime64[ns]\n"
          ],
          "name": "stdout"
        }
      ]
    },
    {
      "cell_type": "code",
      "metadata": {
        "id": "W0lNw4Brvz2f",
        "colab_type": "code",
        "colab": {
          "base_uri": "https://localhost:8080/",
          "height": 735
        },
        "outputId": "9f4cabb9-5751-4c17-e9e5-2da3d3c9ca85"
      },
      "source": [
        "#bar chart of order date Vs total charge which indicates the purchased amount at every instance of purchase\n",
        "plt.figure()\n",
        "plt.style.use('seaborn-whitegrid')\n",
        "df.plot.bar(x='Order Date',y='Total Charged',rot=90,figsize=(20,10))\n",
        "plt.title('ORDER DATE Vs TOTAL CHARGED')\n"
      ],
      "execution_count": 32,
      "outputs": [
        {
          "output_type": "execute_result",
          "data": {
            "text/plain": [
              "Text(0.5, 1.0, 'ORDER DATE Vs TOTAL CHARGED')"
            ]
          },
          "metadata": {
            "tags": []
          },
          "execution_count": 32
        },
        {
          "output_type": "display_data",
          "data": {
            "text/plain": [
              "<Figure size 432x288 with 0 Axes>"
            ]
          },
          "metadata": {
            "tags": []
          }
        },
        {
          "output_type": "display_data",
          "data": {
            "image/png": "[encoded data removed]",
            "text/plain": [
              "<Figure size 1440x720 with 1 Axes>"
            ]
          },
          "metadata": {
            "tags": []
          }
        }
      ]
    },
    {
      "cell_type": "code",
      "metadata": {
        "id": "QmQO7dIzzD9u",
        "colab_type": "code",
        "colab": {
          "base_uri": "https://localhost:8080/",
          "height": 136
        },
        "outputId": "2a53a733-8dc1-438a-9fe6-e7bf7ec380e4"
      },
      "source": [
        "#In the above representation there is a flaw, the total charge of few order dates are repepeated according to number of order items to correct those\n",
        "#we group the order dates and get the sum of all orders of that particular date\n",
        "daily_orders=df.groupby('Order Date').sum()['Total Charged']\n",
        "daily_orders.head()"
      ],
      "execution_count": 25,
      "outputs": [
        {
          "output_type": "execute_result",
          "data": {
            "text/plain": [
              "Order Date\n",
              "2019-04-01     63.91\n",
              "2019-04-04    156.12\n",
              "2019-04-05     27.64\n",
              "2019-04-07     40.63\n",
              "2019-04-08     44.99\n",
              "Name: Total Charged, dtype: float64"
            ]
          },
          "metadata": {
            "tags": []
          },
          "execution_count": 25
        }
      ]
    },
    {
      "cell_type": "code",
      "metadata": {
        "id": "jABobx_wAPAq",
        "colab_type": "code",
        "colab": {
          "base_uri": "https://localhost:8080/",
          "height": 734
        },
        "outputId": "526dbc16-4856-49fb-d3ab-2ad1e534e4d2"
      },
      "source": [
        "plt.figure()\n",
        "daily_orders.plot.bar(figsize=(20,10))\n",
        "plt.title('ORDER DATE Vs TOTAL CHARGE')\n",
        "plt.ylabel('TOTAL CHARGE')"
      ],
      "execution_count": 26,
      "outputs": [
        {
          "output_type": "execute_result",
          "data": {
            "text/plain": [
              "Text(0, 0.5, 'TOTAL CHARGE')"
            ]
          },
          "metadata": {
            "tags": []
          },
          "execution_count": 26
        },
        {
          "output_type": "display_data",
          "data": {
            "image/png": "[encoded data removed]",
            "text/plain": [
              "<Figure size 1440x720 with 1 Axes>"
            ]
          },
          "metadata": {
            "tags": [],
            "needs_background": "light"
          }
        }
      ]
    },
    {
      "cell_type": "code",
      "metadata": {
        "id": "Ydw_Lg45G0At",
        "colab_type": "code",
        "colab": {
          "base_uri": "https://localhost:8080/",
          "height": 718
        },
        "outputId": "126acb4b-f667-4992-d2ea-26e90f964f69"
      },
      "source": [
        "# bar plot for order date Vs tax charged \n",
        "df.plot.bar(x='Order Date',y='Tax Charged',rot=90,figsize=(20,10))\n"
      ],
      "execution_count": 28,
      "outputs": [
        {
          "output_type": "execute_result",
          "data": {
            "text/plain": [
              "<matplotlib.axes._subplots.AxesSubplot at 0x7f4a816d16a0>"
            ]
          },
          "metadata": {
            "tags": []
          },
          "execution_count": 28
        },
        {
          "output_type": "display_data",
          "data": {
            "image/png": "[encoded data removed]",
            "text/plain": [
              "<Figure size 1440x720 with 1 Axes>"
            ]
          },
          "metadata": {
            "tags": [],
            "needs_background": "light"
          }
        }
      ]
    },
    {
      "cell_type": "code",
      "metadata": {
        "id": "n6mr73TxXvRv",
        "colab_type": "code",
        "colab": {
          "base_uri": "https://localhost:8080/",
          "height": 703
        },
        "outputId": "70cfa2a1-b968-4c26-ec70-212339967bd7"
      },
      "source": [
        "#we can see the missing bars in the above plot as there is only one tax charge corresponding to each time we order \n",
        "#in order to correct this bar plot and keep one order per date \n",
        "plt.figure()\n",
        "tax_per_day=df.groupby('Order Date').sum()['Tax Charged']\n",
        "plt.style.use('seaborn-whitegrid')\n",
        "plt.ylabel('tax charged')\n",
        "\n",
        "tax_per_day.plot.bar(figsize=(20,10))\n",
        "  "
      ],
      "execution_count": 31,
      "outputs": [
        {
          "output_type": "execute_result",
          "data": {
            "text/plain": [
              "<matplotlib.axes._subplots.AxesSubplot at 0x7f4a81fffe48>"
            ]
          },
          "metadata": {
            "tags": []
          },
          "execution_count": 31
        },
        {
          "output_type": "display_data",
          "data": {
            "image/png": "[encoded data removed]",
            "text/plain": [
              "<Figure size 1440x720 with 1 Axes>"
            ]
          },
          "metadata": {
            "tags": [],
            "needs_background": "light"
          }
        }
      ]
    },
    {
      "cell_type": "code",
      "metadata": {
        "id": "w8qumlc8ZLd6",
        "colab_type": "code",
        "colab": {
          "base_uri": "https://localhost:8080/",
          "height": 34
        },
        "outputId": "3ecb6d7e-ea3c-4f9f-d724-248e1efaf761"
      },
      "source": [
        "#the missing bars in the above graph represent no tax charged\n",
        "count=0\n",
        "for x in tax_per_day:\n",
        "  if x == 0:\n",
        "    count=count+1\n",
        "print('Number of orders where the tax charge is 0 :',count)"
      ],
      "execution_count": 30,
      "outputs": [
        {
          "output_type": "stream",
          "text": [
            "Number of orders where the tax charge is 0 : 12\n"
          ],
          "name": "stdout"
        }
      ]
    },
    {
      "cell_type": "code",
      "metadata": {
        "id": "wUI3tMgPvcp7",
        "colab_type": "code",
        "colab": {}
      },
      "source": [
        ""
      ],
      "execution_count": null,
      "outputs": []
    }
  ]
}